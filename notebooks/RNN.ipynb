{
 "cells": [
  {
   "cell_type": "code",
   "execution_count": 44,
   "metadata": {
    "collapsed": true
   },
   "outputs": [],
   "source": [
    "import numpy as np\n",
    "import tensorflow as tf\n",
    "import matplotlib.pyplot as plt\n",
    "import seaborn as sns\n",
    "%matplotlib inline"
   ]
  },
  {
   "cell_type": "code",
   "execution_count": 45,
   "metadata": {
    "collapsed": false
   },
   "outputs": [
    {
     "name": "stdout",
     "output_type": "stream",
     "text": [
      "data has 7277693 characters, 113 unique\n"
     ]
    }
   ],
   "source": [
    "with open('D:/Data/python.txt') as file:\n",
    "    data = file.read()\n",
    "chars = list(set(data))\n",
    "data_size, vocab_size = len(data), len(chars)\n",
    "print('data has %d characters, %d unique' % (data_size, vocab_size))\n",
    "char_to_ix = {ch:i for i, ch in enumerate(chars)}\n",
    "ix_to_char = {i:ch for i, ch in enumerate(chars)}"
   ]
  },
  {
   "cell_type": "code",
   "execution_count": 46,
   "metadata": {
    "collapsed": true
   },
   "outputs": [],
   "source": [
    "hidden_size = 100\n",
    "seq_length = 30\n",
    "learning_rate = 1e-3"
   ]
  },
  {
   "cell_type": "code",
   "execution_count": 47,
   "metadata": {
    "collapsed": false
   },
   "outputs": [],
   "source": [
    "graph = tf.Graph()\n",
    "# https://github.com/crazydonkey200/tensorflow-char-rnn/blob/master/char_rnn_model.py\n",
    "with graph.as_default():\n",
    "    x = tf.placeholder(tf.float32, [seq_length, 1])\n",
    "    xs = tf.split(0, seq_length, x)\n",
    "    y = tf.placeholder(tf.int32)\n",
    "    W = tf.Variable(tf.random_uniform((hidden_size, vocab_size), -0.01, 0.01))\n",
    "    b = tf.Variable(tf.zeros(vocab_size, 1))\n",
    "\n",
    "    lstm = tf.nn.rnn_cell.LSTMCell(hidden_size)\n",
    "    outputs, state = tf.nn.rnn(lstm, xs, dtype=tf.float32)\n",
    "    flat_outputs = tf.reshape(tf.concat(1, outputs), [-1, hidden_size])\n",
    "    flat_targets = tf.reshape(tf.concat(1, y), [-1])\n",
    "    logits = tf.matmul(flat_outputs, W) + b\n",
    "    \n",
    "    cost = tf.reduce_mean(tf.nn.sparse_softmax_cross_entropy_with_logits(logits, flat_targets))\n",
    "    optimizer = tf.train.AdamOptimizer(learning_rate=learning_rate).minimize(cost)\n",
    "    correct_pred = tf.equal(tf.argmax(logits, 1), tf.cast(y, tf.int64))\n",
    "    accuracy = tf.reduce_mean(tf.cast(correct_pred, tf.float32))"
   ]
  },
  {
   "cell_type": "code",
   "execution_count": 48,
   "metadata": {
    "collapsed": false
   },
   "outputs": [],
   "source": [
    "class BatchGenerator():\n",
    "    def __init__(self, text, batch_size)"
   ]
  },
  {
   "cell_type": "code",
   "execution_count": 50,
   "metadata": {
    "collapsed": false
   },
   "outputs": [
    {
     "data": {
      "image/png": "[encoded data removed]",
      "text/plain": [
       "<matplotlib.figure.Figure at 0x1de9f37ee10>"
      ]
     },
     "metadata": {},
     "output_type": "display_data"
    }
   ],
   "source": [
    "acc = []\n",
    "with tf.Session(graph=graph) as session:\n",
    "    tf.global_variables_initializer().run()\n",
    "    for i in range(500):\n",
    "        session.run([cost, optimizer], feed_dict={x:inputs, y:targets})\n",
    "        acc.append(session.run(accuracy, feed_dict={x:inputs, y:targets}))\n",
    "    \n",
    "plt.plot(range(len(acc)), acc)\n",
    "plt.show()"
   ]
  },
  {
   "cell_type": "code",
   "execution_count": 55,
   "metadata": {
    "collapsed": false
   },
   "outputs": [
    {
     "data": {
      "text/plain": [
       "array([ 16,  16,  60,  93,  13, 109,  17,  10,  85,  10,   9,  85,  73,\n",
       "         9,  36,  52,  74,   9,  19,  73,  85,  10,  57,  67,  85,  71,\n",
       "         9,  96, 109,  67])"
      ]
     },
     "execution_count": 55,
     "metadata": {},
     "output_type": "execute_result"
    }
   ],
   "source": [
    "targets"
   ]
  },
  {
   "cell_type": "code",
   "execution_count": null,
   "metadata": {
    "collapsed": true
   },
   "outputs": [],
   "source": []
  }
 ],
 "metadata": {
  "kernelspec": {
   "display_name": "Python 3",
   "language": "python",
   "name": "python3"
  },
  "language_info": {
   "codemirror_mode": {
    "name": "ipython",
    "version": 3
   },
   "file_extension": ".py",
   "mimetype": "text/x-python",
   "name": "python",
   "nbconvert_exporter": "python",
   "pygments_lexer": "ipython3",
   "version": "3.5.2"
  }
 },
 "nbformat": 4,
 "nbformat_minor": 0
}
